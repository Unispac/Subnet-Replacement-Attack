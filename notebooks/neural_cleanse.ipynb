{
 "cells": [
  {
   "cell_type": "markdown",
   "metadata": {},
   "source": [
    "# Neural Cleanse\n",
    "\n",
    "Some codes are borrowed from **TrojanZoo**."
   ]
  },
  {
   "cell_type": "code",
   "execution_count": 1,
   "metadata": {},
   "outputs": [],
   "source": [
    "import sys, os\n",
    "EXT_DIR = ['..', '../models/cifar_10']\n",
    "for DIR in EXT_DIR:\n",
    "    if DIR not in sys.path: sys.path.append(DIR)\n",
    "\n",
    "import numpy as np\n",
    "import torch\n",
    "from torch import nn, tensor\n",
    "from torch.utils.data import Dataset, DataLoader, random_split\n",
    "from torchvision import datasets, transforms\n",
    "from scipy.optimize import linprog\n",
    "from tqdm import tqdm\n",
    "from math import ceil\n",
    "import matplotlib.pyplot as plt\n",
    "import PIL.Image as Image\n",
    "# Models\n",
    "import narrow_vgg, narrow_resnet, narrow_mobilenetv2, narrow_wideresidual\n",
    "import vgg, resnet, mobilenetv2, wideresidual\n",
    "\n",
    "\n",
    "\"\"\"\n",
    "Configurations\n",
    "\"\"\"\n",
    "use_gpu = True # use GPU or CPU\n",
    "model_arch = 'vgg'\n",
    "dataset_path = '../datasets/data_cifar'\n",
    "test_num = 100 # test input number\n",
    "class_num = 10 # output class(es) num\n",
    "target_label = 2 # backdoor attack target\n",
    "\n",
    "if use_gpu:\n",
    "    os.environ['CUDA_VISIBLE_DEVICES'] = '2' # select GPU if necessary\n",
    "    device = 'cuda'\n",
    "else:\n",
    "    device = 'cpu'\n",
    "\n",
    "def generate_dataloader(dataset_path='./dataset/', batch_size=4, train=False):\n",
    "    if train:\n",
    "        train_data  = datasets.CIFAR10(root=dataset_path, train=True, download=False,\n",
    "            transform=transforms.Compose([\n",
    "                transforms.ToTensor(),\n",
    "                transforms.Normalize(mean=[0.485, 0.456, 0.406], std=[0.229, 0.224, 0.225]),\n",
    "            ])\n",
    "        )\n",
    "        train_data_loader = DataLoader(dataset=train_data, batch_size=batch_size, shuffle=True)\n",
    "        return train_data_loader\n",
    "    else:\n",
    "        test_data  = datasets.CIFAR10(root=dataset_path, train=False, download=False,\n",
    "            transform=transforms.Compose([\n",
    "                transforms.ToTensor(),\n",
    "                transforms.Normalize(mean=[0.485, 0.456, 0.406], std=[0.229, 0.224, 0.225]),\n",
    "            ])\n",
    "        )\n",
    "        test_data_loader = DataLoader(dataset=test_data, batch_size=batch_size, shuffle=True)\n",
    "        return test_data_loader\n",
    "\n",
    "def load_a_batch_of_data(input_num):\n",
    "    dataloader = generate_dataloader(dataset_path=dataset_path, batch_size=input_num)\n",
    "    return next(iter(dataloader))\n",
    "\n",
    "preprocess = transforms.Normalize(mean=[0.485, 0.456, 0.406], std=[0.229, 0.224, 0.225])\n",
    "reverse_preprocess = transforms.Normalize(mean=[-0.485/0.229, -0.456/0.224, -0.406/0.225], std=[1/0.229, 1/0.224, 1/0.225])\n",
    "\n",
    "def attack_demo(ori_x, trigger, channels=3, example_num=2):\n",
    "    demo_x = ori_x[:example_num]\n",
    "    for i in range(example_num):\n",
    "        demo = plt.subplot(example_num, 2, i * 2 + 1)\n",
    "        if channels == 3: demo.imshow(demo_x[i].permute(1, 2, 0))\n",
    "        else: demo.imshow(demo_x[i, 0])\n",
    "        demo.axis('off')\n",
    "        demo.set_title('Original')\n",
    "        demo = plt.subplot(example_num, 2, i * 2 + 2)\n",
    "        if channels == 3: demo.imshow((demo_x[i] + trigger).clamp(0., 1.).permute(1, 2, 0))\n",
    "        else:\n",
    "            if len(trigger.shape) == 3: demo.imshow(demo_x[i, 0] + trigger[0])\n",
    "            else: demo.imshow(demo_x[i, 0] + trigger)\n",
    "        demo.axis('off')\n",
    "        demo.set_title('Attacked')\n",
    "    plt.show()\n",
    "\n",
    "def attack_demo_mix(ori_x, trigger, trigger_mask, trigger_alpha, channels=3, example_num=2):\n",
    "    demo_x = ori_x[:example_num]\n",
    "    for i in range(example_num):\n",
    "        demo = plt.subplot(example_num, 2, i * 2 + 1)\n",
    "        if channels == 3: demo.imshow(demo_x[i].permute(1, 2, 0))\n",
    "        else: raise NotImplementedError(\"1 channel not supported\")\n",
    "        demo.axis('off')\n",
    "        demo.set_title('Original')\n",
    "        demo = plt.subplot(example_num, 2, i * 2 + 2)\n",
    "        if channels == 3: demo.imshow((torch.mul(demo_x[i, :, :, :] * (1 - trigger_alpha) + trigger * trigger_alpha, 1 - trigger_mask) + torch.mul(demo_x[i, :, :, :], trigger_mask)).clamp(0., 1.).permute(1, 2, 0))\n",
    "        else: raise NotImplementedError(\"1 channel not supported\")\n",
    "        demo.axis('off')\n",
    "        demo.set_title('Attacked')\n",
    "    plt.show()\n",
    "\n",
    "def show_img(img, channels=3, show_rgb=False, title=None):\n",
    "    if channels == 3:\n",
    "        if show_rgb:\n",
    "            plt.figure(figsize=(7, 5))\n",
    "            demo = plt.subplot(231)\n",
    "            demo.imshow(img.clamp(0., 1.).permute(1, 2, 0))\n",
    "            demo.axis('off')\n",
    "            if title is not None: demo.set_title(title)\n",
    "            demo = plt.subplot(234)\n",
    "            demo.imshow(img[0].clamp(0., 1.))\n",
    "            demo.axis('off')\n",
    "            demo.set_title('[0]')\n",
    "            demo = plt.subplot(235)\n",
    "            demo.imshow(img[1].clamp(0., 1.))\n",
    "            demo.axis('off')\n",
    "            demo.set_title('[1]')\n",
    "            demo = plt.subplot(236)\n",
    "            demo.imshow(img[2].clamp(0., 1.))\n",
    "            demo.axis('off')\n",
    "            demo.set_title('[2]')\n",
    "        else:\n",
    "            plt.figure(figsize=(2.5, 2.5))\n",
    "            demo = plt.subplot(111)\n",
    "            demo.imshow(img.clamp(0., 1.).permute(1, 2, 0))\n",
    "            demo.axis('off')\n",
    "            if title is not None: demo.set_title(title)\n",
    "    elif channels == 1:\n",
    "        plt.figure(figsize=(2.5, 2.5))\n",
    "        demo = plt.subplot(111)\n",
    "        if len(img.shape) == 3: demo.imshow(img[0])\n",
    "        else: demo.imshow(img)\n",
    "        demo.axis('off')\n",
    "        if title is not None: demo.set_title(title)\n",
    "    plt.show()"
   ]
  },
  {
   "cell_type": "markdown",
   "metadata": {},
   "source": [
    "Inputs for testing at the end:"
   ]
  },
  {
   "cell_type": "code",
   "execution_count": 2,
   "metadata": {},
   "outputs": [],
   "source": [
    "test_input, test_sources = load_a_batch_of_data(input_num=test_num)\n",
    "test_input = test_input[test_sources != target_label]\n",
    "test_input_ori = reverse_preprocess(test_input)\n",
    "test_sources = test_sources[test_sources != target_label]"
   ]
  },
  {
   "cell_type": "markdown",
   "metadata": {},
   "source": [
    "Load a model to run NC:"
   ]
  },
  {
   "cell_type": "code",
   "execution_count": 11,
   "metadata": {},
   "outputs": [
    {
     "name": "stdout",
     "output_type": "stream",
     "text": [
      "Model loaded on 'cuda' successfully!\n"
     ]
    }
   ],
   "source": [
    "\"\"\"Select your model\"\"\"\n",
    "# model_path = '../checkpoints/cifar_10/%s_sra.ckpt' % model_arch\n",
    "model_path = '../checkpoints/cifar_10/%s_0.ckpt' % model_arch\n",
    "# model_path = '../checkpoints/cifar_10/%s_poisoned.ckpt' % model_arch\n",
    "\n",
    "if model_arch == 'vgg': model = vgg.vgg16_bn() # complete vgg model\n",
    "elif model_arch == 'resnet': model = resnet.resnet110() # complete resnet model\n",
    "elif model_arch == 'mobilenetv2': model = mobilenetv2.mobilenetv2() # complete mobilenetv2 model\n",
    "elif model_arch == 'wideresidual': model = wideresidual.wideresnet() # complete wideresidual model\n",
    "\n",
    "model.eval()\n",
    "model.load_state_dict(torch.load(model_path))\n",
    "model.to(device=device)\n",
    "print(\"Model loaded on '{}' successfully!\".format(device))"
   ]
  },
  {
   "cell_type": "markdown",
   "metadata": {},
   "source": [
    "## Major NC code"
   ]
  },
  {
   "cell_type": "code",
   "execution_count": 4,
   "metadata": {},
   "outputs": [],
   "source": [
    "import torch\n",
    "import torch.optim as optim\n",
    "import numpy as np\n",
    "\n",
    "import os\n",
    "import time\n",
    "import datetime\n",
    "from tqdm import tqdm\n",
    "\n",
    "def to_numpy(x, **kwargs) -> np.ndarray:\n",
    "    if isinstance(x, torch.Tensor):\n",
    "        x = x.detach().cpu().numpy()\n",
    "    return np.array(x, **kwargs)\n",
    "\n",
    "# Project function\n",
    "def tanh_func(x: torch.Tensor, plant_strategy='nc') -> torch.Tensor:\n",
    "    if plant_strategy == 'nc': return x.tanh().add(1).mul(0.5)\n",
    "    else: return x.tanh()\n",
    "\n",
    "class AverageMeter:\n",
    "    \"\"\"Computes and stores the average and current value\"\"\"\n",
    "\n",
    "    def __init__(self, name: str, fmt: str = ':f'):\n",
    "        self.name: str = name\n",
    "        self.fmt = fmt\n",
    "        self.reset()\n",
    "\n",
    "    def reset(self):\n",
    "        self.val = 0.\n",
    "        self.avg = 0.\n",
    "        self.sum = 0.\n",
    "        self.count = 0\n",
    "\n",
    "    def update(self, val: float, n: int = 1):\n",
    "        self.val = val\n",
    "        self.sum += val * n\n",
    "        self.count += n\n",
    "        self.avg = self.sum / self.count\n",
    "\n",
    "    def __str__(self):\n",
    "        fmtstr = '{name} {val' + self.fmt + '} ({avg' + self.fmt + '})'\n",
    "        return fmtstr.format(**self.__dict__)\n",
    "\n",
    "# Neural Cleanse!\n",
    "class NeuralCleanse():\n",
    "    name: str = 'neural_cleanse'\n",
    "\n",
    "    def __init__(self, model, epoch: int = 10, batch_size = 32,\n",
    "                 init_cost: float = 1e-3, cost_multiplier: float = 1.5, patience: float = 10,\n",
    "                 attack_succ_threshold: float = 0.99, early_stop_threshold: float = 0.99,\n",
    "                 show_every = 5, loader=None):\n",
    "\n",
    "        self.epoch: int = epoch\n",
    "\n",
    "        self.init_cost = init_cost\n",
    "        self.cost_multiplier_up = cost_multiplier\n",
    "        self.cost_multiplier_down = cost_multiplier ** 1.5\n",
    "\n",
    "        self.patience: float = patience\n",
    "        self.attack_succ_threshold: float = attack_succ_threshold\n",
    "\n",
    "        self.early_stop = True\n",
    "        self.early_stop_threshold: float = early_stop_threshold\n",
    "        self.early_stop_patience: float = self.patience * 2\n",
    "\n",
    "        # My configuration\n",
    "        self.device=device\n",
    "        self.folder_path = '../defenses'\n",
    "        self.target_class = target_label\n",
    "        self.model = model\n",
    "        self.num_classes = class_num\n",
    "        self.criterion = torch.nn.CrossEntropyLoss()\n",
    "        if loader is None: self.loader = generate_dataloader(dataset_path=dataset_path, batch_size=batch_size, train=True)\n",
    "        else: self.loader = loader\n",
    "        self.shape = torch.Size([3, 32, 32])\n",
    "        self.tqdm = True\n",
    "        self.show_every = show_every\n",
    "\n",
    "    def detect(self):\n",
    "        # self.real_mask = self.attack.mark.mask\n",
    "        mark_list, mask_list, loss_list = self.get_potential_triggers()\n",
    "        mask_norms = mask_list.flatten(start_dim=1).norm(p=1, dim=1)\n",
    "        print('mask norms: ', mask_norms)\n",
    "        # print('mask MAD: ', normalize_mad(mask_norms))\n",
    "        print('loss: ', loss_list)\n",
    "        # print('loss MAD: ', normalize_mad(loss_list))\n",
    "\n",
    "        # if not self.random_pos:\n",
    "        #     overlap = jaccard_idx(mask_list[self.attack.target_class], self.real_mask,\n",
    "        #                           select_num=self.attack.mark.mark_height * self.attack.mark.mark_width)\n",
    "        #     print(f'Jaccard index: {overlap:.3f}')\n",
    "\n",
    "    def get_potential_triggers(self):#-> tuple[torch.Tensor, torch.Tensor, torch.Tensor]:\n",
    "        mark_list, mask_list, loss_list = [], [], []\n",
    "        # todo: parallel to avoid for loop\n",
    "        file_path = os.path.normpath(os.path.join(\n",
    "            self.folder_path, 'NC_target_%d' % self.target_class + '.npz'))\n",
    "        # for label in range(self.num_classes):\n",
    "        for label in [self.target_class]:\n",
    "            print('Class: %d/%d' % (label + 1, self.num_classes))\n",
    "            mark, mask, loss = self.remask(label)\n",
    "            mark_list.append(mark)\n",
    "            mask_list.append(mask)\n",
    "            loss_list.append(loss)\n",
    "            # overlap = jaccard_idx(mask, self.real_mask,\n",
    "            #                         select_num=self.attack.mark.mark_height * self.attack.mark.mark_width)\n",
    "            # print(f'Jaccard index: {overlap:.3f}')\n",
    "            np.savez(file_path, mark_list=[to_numpy(mark) for mark in mark_list],\n",
    "                     mask_list=[to_numpy(mask) for mask in mask_list],\n",
    "                     loss_list=loss_list)\n",
    "            print('Defense results saved at: ' + file_path)\n",
    "        mark_list = torch.stack(mark_list)\n",
    "        mask_list = torch.stack(mask_list)\n",
    "        loss_list = torch.as_tensor(loss_list)\n",
    "        return mark_list, mask_list, loss_list\n",
    "\n",
    "    def loss_fn(self, _input, _label, Y, mask, mark, label):\n",
    "        X = (_input + mask * (mark - _input)).clamp(0., 1.)\n",
    "        Y = label * torch.ones_like(_label, dtype=torch.long)\n",
    "        _output = self.model(preprocess(X))\n",
    "        return self.criterion(_output, Y)\n",
    "\n",
    "    def remask(self, label: int):\n",
    "        epoch = self.epoch\n",
    "        # no bound\n",
    "        atanh_mark = torch.randn(self.shape, device=self.device)\n",
    "        atanh_mark.requires_grad_()\n",
    "        atanh_mask = torch.randn(self.shape[1:], device=self.device)\n",
    "        # atanh_mask = torch.ones(self.shape[1:], device=self.device)\n",
    "        atanh_mask.requires_grad_()\n",
    "        mask = tanh_func(atanh_mask)    # (h, w)\n",
    "        mark = tanh_func(atanh_mark)    # (c, h, w)\n",
    "\n",
    "        optimizer = optim.Adam(\n",
    "            [atanh_mark, atanh_mask], lr=0.1, betas=(0.5, 0.9))\n",
    "        optimizer.zero_grad()\n",
    "\n",
    "        cost = self.init_cost\n",
    "        cost_set_counter = 0\n",
    "        cost_up_counter = 0\n",
    "        cost_down_counter = 0\n",
    "        cost_up_flag = False\n",
    "        cost_down_flag = False\n",
    "\n",
    "        # best optimization results\n",
    "        norm_best = float('inf')\n",
    "        mask_best = None\n",
    "        mark_best = None\n",
    "        entropy_best = None\n",
    "\n",
    "        # counter for early stop\n",
    "        early_stop_counter = 0\n",
    "        early_stop_norm_best = norm_best\n",
    "\n",
    "        losses = AverageMeter('Loss', ':.4e')\n",
    "        entropy = AverageMeter('Entropy', ':.4e')\n",
    "        norm = AverageMeter('Norm', ':.4e')\n",
    "        acc = AverageMeter('Acc', ':6.2f')\n",
    "\n",
    "        for _epoch in range(epoch):\n",
    "            losses.reset()\n",
    "            entropy.reset()\n",
    "            norm.reset()\n",
    "            acc.reset()\n",
    "            epoch_start = time.perf_counter()\n",
    "            loader = self.loader\n",
    "            if self.tqdm:\n",
    "                loader = tqdm(self.loader)\n",
    "            for _input, _label in loader:\n",
    "                _input = reverse_preprocess(_input.to(device=device))\n",
    "                # _input = _input.to(device=device)\n",
    "                _label = _label.to(device=device)\n",
    "                batch_size = _label.size(0)\n",
    "                X = (_input + mask * (mark - _input)).clamp(0., 1.)\n",
    "                Y = label * torch.ones_like(_label, dtype=torch.long)\n",
    "                _output = self.model(preprocess(X))\n",
    "                # _output = self.model(X)\n",
    "\n",
    "                batch_acc = Y.eq(_output.argmax(1)).float().mean()\n",
    "                batch_entropy = self.loss_fn(_input, _label, Y, mask, mark, label)\n",
    "                batch_norm = mask.norm(p=1)\n",
    "                batch_loss = batch_entropy + cost * batch_norm # NC loss function\n",
    "\n",
    "                acc.update(batch_acc.item(), batch_size)\n",
    "                entropy.update(batch_entropy.item(), batch_size)\n",
    "                norm.update(batch_norm.item(), batch_size)\n",
    "                losses.update(batch_loss.item(), batch_size)\n",
    "\n",
    "                batch_loss.backward()\n",
    "                optimizer.step()\n",
    "                optimizer.zero_grad()\n",
    "\n",
    "                mask = tanh_func(atanh_mask)    # (h, w)\n",
    "                mark = tanh_func(atanh_mark)    # (c, h, w)\n",
    "            epoch_time = str(datetime.timedelta(seconds=int(\n",
    "                time.perf_counter() - epoch_start)))\n",
    "            pre_str = 'Epoch: {}/{}'.format(_epoch + 1, epoch)\n",
    "            _str = ' '.join([\n",
    "                f'Loss: {losses.avg:.4f},'.ljust(20),\n",
    "                f'Acc: {acc.avg:.2f}, '.ljust(20),\n",
    "                f'Norm: {norm.avg:.4f},'.ljust(20),\n",
    "                f'Entropy: {entropy.avg:.4f},'.ljust(20),\n",
    "                f'Time: {epoch_time},'.ljust(20),\n",
    "            ])\n",
    "            print(pre_str, _str)\n",
    "\n",
    "            # check to save best mask or not\n",
    "            if acc.avg >= self.attack_succ_threshold and norm.avg < norm_best:\n",
    "                mask_best = mask.detach()\n",
    "                mark_best = mark.detach()\n",
    "                norm_best = norm.avg\n",
    "                entropy_best = entropy.avg\n",
    "\n",
    "            # check early stop\n",
    "            if self.early_stop:\n",
    "                # only terminate if a valid attack has been found\n",
    "                if norm_best < float('inf'):\n",
    "                    if norm_best >= self.early_stop_threshold * early_stop_norm_best:\n",
    "                        early_stop_counter += 1\n",
    "                    else:\n",
    "                        early_stop_counter = 0\n",
    "                early_stop_norm_best = min(norm_best, early_stop_norm_best)\n",
    "\n",
    "                if cost_down_flag and cost_up_flag and early_stop_counter >= self.early_stop_patience:\n",
    "                    print('early stop')\n",
    "                    break\n",
    "\n",
    "            # check cost modification\n",
    "            if cost == 0 and acc.avg >= self.attack_succ_threshold:\n",
    "                cost_set_counter += 1\n",
    "                if cost_set_counter >= self.patience:\n",
    "                    cost = self.init_cost\n",
    "                    cost_up_counter = 0\n",
    "                    cost_down_counter = 0\n",
    "                    cost_up_flag = False\n",
    "                    cost_down_flag = False\n",
    "                    print('initialize cost to %.2f' % cost)\n",
    "            else:\n",
    "                cost_set_counter = 0\n",
    "\n",
    "            if acc.avg >= self.attack_succ_threshold:\n",
    "                cost_up_counter += 1\n",
    "                cost_down_counter = 0\n",
    "            else:\n",
    "                cost_up_counter = 0\n",
    "                cost_down_counter += 1\n",
    "\n",
    "            if cost_up_counter >= self.patience:\n",
    "                cost_up_counter = 0\n",
    "                print('up cost from %.4f to %.4f' % (cost, cost * self.cost_multiplier_up))\n",
    "                cost *= self.cost_multiplier_up\n",
    "                cost_up_flag = True\n",
    "            elif cost_down_counter >= self.patience:\n",
    "                cost_down_counter = 0\n",
    "                print('down cost from %.4f to %.4f' % (cost, cost / self.cost_multiplier_down))\n",
    "                cost /= self.cost_multiplier_down\n",
    "                cost_down_flag = True\n",
    "            if mask_best is None:\n",
    "                mask_best = tanh_func(atanh_mask).detach()\n",
    "                mark_best = tanh_func(atanh_mark).detach()\n",
    "                norm_best = norm.avg\n",
    "                entropy_best = entropy.avg\n",
    "            if _epoch % self.show_every == 0:\n",
    "                show_img((mark * mask).cpu().detach(), channels=3, title='Restored trigger\\nat epoch %d' % (_epoch))\n",
    "        atanh_mark.requires_grad = False\n",
    "        atanh_mask.requires_grad = False\n",
    "\n",
    "        # self.attack.mark.mark = mark_best\n",
    "        # self.attack.mark.alpha_mark = mask_best\n",
    "        # self.attack.mark.mask = torch.ones_like(mark_best, dtype=torch.bool)\n",
    "        # self.attack.validate_fn()\n",
    "        return mark_best, mask_best, entropy_best\n"
   ]
  },
  {
   "cell_type": "code",
   "execution_count": 6,
   "metadata": {},
   "outputs": [
    {
     "name": "stdout",
     "output_type": "stream",
     "text": [
      "Class: 3/10\n"
     ]
    },
    {
     "name": "stderr",
     "output_type": "stream",
     "text": [
      "100%|██████████| 1563/1563 [01:22<00:00, 18.89it/s]"
     ]
    },
    {
     "name": "stdout",
     "output_type": "stream",
     "text": [
      "Epoch: 1/10 Loss: 0.1049,        Acc: 1.00,           Norm: 81.6691,       Entropy: 0.0232,     Time: 0:01:22,      \n"
     ]
    },
    {
     "name": "stderr",
     "output_type": "stream",
     "text": [
      "\n"
     ]
    },
    {
     "data": {
      "image/png": "[encoded data removed]",
      "text/plain": [
       "<Figure size 250x250 with 1 Axes>"
      ]
     },
     "metadata": {},
     "output_type": "display_data"
    },
    {
     "name": "stderr",
     "output_type": "stream",
     "text": [
      "100%|██████████| 1563/1563 [01:22<00:00, 18.92it/s]\n"
     ]
    },
    {
     "name": "stdout",
     "output_type": "stream",
     "text": [
      "Epoch: 2/10 Loss: 0.0675,        Acc: 1.00,           Norm: 54.4433,       Entropy: 0.0130,     Time: 0:01:22,      \n",
      "up cost from 0.0010 to 0.0015\n"
     ]
    },
    {
     "name": "stderr",
     "output_type": "stream",
     "text": [
      "100%|██████████| 1563/1563 [01:22<00:00, 19.06it/s]"
     ]
    },
    {
     "name": "stdout",
     "output_type": "stream",
     "text": [
      "Epoch: 3/10 Loss: 0.0950,        Acc: 1.00,           Norm: 51.8707,       Entropy: 0.0172,     Time: 0:01:22,      \n"
     ]
    },
    {
     "name": "stderr",
     "output_type": "stream",
     "text": [
      "\n"
     ]
    },
    {
     "data": {
      "image/png": "[encoded data removed]",
      "text/plain": [
       "<Figure size 250x250 with 1 Axes>"
      ]
     },
     "metadata": {},
     "output_type": "display_data"
    },
    {
     "name": "stderr",
     "output_type": "stream",
     "text": [
      "100%|██████████| 1563/1563 [01:21<00:00, 19.08it/s]\n"
     ]
    },
    {
     "name": "stdout",
     "output_type": "stream",
     "text": [
      "Epoch: 4/10 Loss: 0.0933,        Acc: 1.00,           Norm: 51.1577,       Entropy: 0.0166,     Time: 0:01:21,      \n",
      "up cost from 0.0015 to 0.0023\n"
     ]
    },
    {
     "name": "stderr",
     "output_type": "stream",
     "text": [
      "100%|██████████| 1563/1563 [01:21<00:00, 19.06it/s]"
     ]
    },
    {
     "name": "stdout",
     "output_type": "stream",
     "text": [
      "Epoch: 5/10 Loss: 0.1315,        Acc: 1.00,           Norm: 49.6585,       Entropy: 0.0198,     Time: 0:01:21,      \n"
     ]
    },
    {
     "name": "stderr",
     "output_type": "stream",
     "text": [
      "\n"
     ]
    },
    {
     "data": {
      "image/png": "[encoded data removed]",
      "text/plain": [
       "<Figure size 250x250 with 1 Axes>"
      ]
     },
     "metadata": {},
     "output_type": "display_data"
    },
    {
     "name": "stderr",
     "output_type": "stream",
     "text": [
      "100%|██████████| 1563/1563 [01:23<00:00, 18.68it/s]\n"
     ]
    },
    {
     "name": "stdout",
     "output_type": "stream",
     "text": [
      "Epoch: 6/10 Loss: 0.1311,        Acc: 1.00,           Norm: 49.7800,       Entropy: 0.0191,     Time: 0:01:23,      \n",
      "up cost from 0.0023 to 0.0034\n"
     ]
    },
    {
     "name": "stderr",
     "output_type": "stream",
     "text": [
      "100%|██████████| 1563/1563 [01:21<00:00, 19.06it/s]"
     ]
    },
    {
     "name": "stdout",
     "output_type": "stream",
     "text": [
      "Epoch: 7/10 Loss: 0.1886,        Acc: 0.99,           Norm: 47.6431,       Entropy: 0.0278,     Time: 0:01:21,      \n"
     ]
    },
    {
     "name": "stderr",
     "output_type": "stream",
     "text": [
      "\n"
     ]
    },
    {
     "data": {
      "image/png": "[encoded data removed]",
      "text/plain": [
       "<Figure size 250x250 with 1 Axes>"
      ]
     },
     "metadata": {},
     "output_type": "display_data"
    },
    {
     "name": "stderr",
     "output_type": "stream",
     "text": [
      "100%|██████████| 1563/1563 [01:22<00:00, 18.98it/s]\n"
     ]
    },
    {
     "name": "stdout",
     "output_type": "stream",
     "text": [
      "Epoch: 8/10 Loss: 0.1880,        Acc: 0.99,           Norm: 47.8147,       Entropy: 0.0266,     Time: 0:01:22,      \n",
      "up cost from 0.0034 to 0.0051\n"
     ]
    },
    {
     "name": "stderr",
     "output_type": "stream",
     "text": [
      "100%|██████████| 1563/1563 [01:22<00:00, 19.04it/s]"
     ]
    },
    {
     "name": "stdout",
     "output_type": "stream",
     "text": [
      "Epoch: 9/10 Loss: 0.2692,        Acc: 0.99,           Norm: 45.4934,       Entropy: 0.0389,     Time: 0:01:22,      \n"
     ]
    },
    {
     "name": "stderr",
     "output_type": "stream",
     "text": [
      "\n"
     ]
    },
    {
     "data": {
      "image/png": "[encoded data removed]",
      "text/plain": [
       "<Figure size 250x250 with 1 Axes>"
      ]
     },
     "metadata": {},
     "output_type": "display_data"
    },
    {
     "name": "stderr",
     "output_type": "stream",
     "text": [
      "100%|██████████| 1563/1563 [01:21<00:00, 19.06it/s]"
     ]
    },
    {
     "name": "stdout",
     "output_type": "stream",
     "text": [
      "Epoch: 10/10 Loss: 0.2680,        Acc: 0.99,           Norm: 45.4369,       Entropy: 0.0380,     Time: 0:01:21,      \n",
      "up cost from 0.0051 to 0.0076\n",
      "Defense results saved at: ../defenses/NC_target_2.npz\n",
      "mask norms:  tensor([45.9974], device='cuda:0')\n",
      "loss:  tensor([0.0380])\n"
     ]
    },
    {
     "name": "stderr",
     "output_type": "stream",
     "text": [
      "\n"
     ]
    }
   ],
   "source": [
    "epoch = 10\n",
    "batch_size = 32\n",
    "init_cost = 1e-3\n",
    "patience = 2\n",
    "attack_succ_threshold = 0.95\n",
    "show_every = 2\n",
    "# loader = generate_dataloader(dataset_path=dataset_path, batch_size=32, train=True)\n",
    "\n",
    "defense = NeuralCleanse(\n",
    "    model=model,\n",
    "    epoch=epoch,\n",
    "    batch_size=batch_size,\n",
    "    init_cost=init_cost,\n",
    "    patience=patience,\n",
    "    attack_succ_threshold=attack_succ_threshold,\n",
    "    show_every=show_every,\n",
    "    # loader=loader,\n",
    "    )\n",
    "defense.detect()"
   ]
  },
  {
   "cell_type": "markdown",
   "metadata": {},
   "source": [
    "### Show NC Results"
   ]
  },
  {
   "cell_type": "code",
   "execution_count": 7,
   "metadata": {},
   "outputs": [
    {
     "data": {
      "image/png": "[encoded data removed]",
      "text/plain": [
       "<Figure size 250x250 with 1 Axes>"
      ]
     },
     "metadata": {},
     "output_type": "display_data"
    },
    {
     "data": {
      "image/png": "[encoded data removed]",
      "text/plain": [
       "<Figure size 250x250 with 1 Axes>"
      ]
     },
     "metadata": {},
     "output_type": "display_data"
    },
    {
     "data": {
      "image/png": "[encoded data removed]",
      "text/plain": [
       "<Figure size 250x250 with 1 Axes>"
      ]
     },
     "metadata": {},
     "output_type": "display_data"
    }
   ],
   "source": [
    "# results = np.load('../defenses/NC_target_%s.npz' % target_label)\n",
    "# results = np.load('../defenses/NC_target_%s_sra_4.npz' % target_label)\n",
    "results = np.load('../defenses/NC_target_%s_clean_3.npz' % target_label)\n",
    "# results = np.load('../defenses/NC_target_%s_poisoned_3.npz' % target_label)\n",
    "mark_list = results['mark_list']\n",
    "mask_list = results['mask_list']\n",
    "loss_list = results['loss_list']\n",
    "\n",
    "for i in range(1):\n",
    "    mark = torch.tensor(mark_list[i])\n",
    "    mask = torch.tensor(mask_list[0])\n",
    "    show_img(mark, title='mark')\n",
    "    show_img(mask, channels=1, title='mask')\n",
    "    show_img(mark * mask, title='restored trigger') # restored trigger"
   ]
  },
  {
   "cell_type": "markdown",
   "metadata": {},
   "source": [
    "### Test NC Results"
   ]
  },
  {
   "cell_type": "code",
   "execution_count": 12,
   "metadata": {},
   "outputs": [
    {
     "data": {
      "image/png": "[encoded data removed]",
      "text/plain": [
       "<Figure size 640x480 with 4 Axes>"
      ]
     },
     "metadata": {},
     "output_type": "display_data"
    },
    {
     "name": "stdout",
     "output_type": "stream",
     "text": [
      "Min: tensor(0.)\n",
      "Max: tensor(1.)\n",
      "L1 norm: tensor(61.4588)\n",
      "L2 norm: tensor(7.3162)\n",
      "L_infin norm: tensor(1.)\n",
      "Prediction: tensor([8, 1, 9, 7, 0, 3, 1, 6, 8, 9, 3, 3, 9, 0, 9, 6, 3, 5, 1, 6, 6, 5, 7, 3,\n",
      "        1, 9, 8, 9, 6, 9, 7, 0, 9, 4, 4, 8, 5, 5, 9, 5, 3, 3, 8, 3, 3, 1, 7, 6,\n",
      "        7, 8, 1, 6, 9, 0, 8, 1, 3, 0, 3, 9, 6, 6, 6, 4, 4, 9, 8, 3, 0, 4, 8, 9,\n",
      "        3, 8, 0, 6, 8, 5, 4, 6, 7, 5, 8, 9, 0, 4])\n",
      "Clean acc:\t94.18604278564453%\n",
      "Attack acc:\t0.0%\n"
     ]
    },
    {
     "data": {
      "image/png": "[encoded data removed]",
      "text/plain": [
       "<Figure size 640x480 with 4 Axes>"
      ]
     },
     "metadata": {},
     "output_type": "display_data"
    },
    {
     "name": "stdout",
     "output_type": "stream",
     "text": [
      "Min: tensor(0.)\n",
      "Max: tensor(1.)\n",
      "L1 norm: tensor(73.9252)\n",
      "L2 norm: tensor(7.0662)\n",
      "L_infin norm: tensor(1.)\n",
      "Prediction: tensor([2, 2, 2, 2, 2, 2, 2, 2, 2, 2, 2, 2, 2, 2, 2, 2, 2, 2, 2, 2, 2, 2, 2, 2,\n",
      "        2, 2, 2, 2, 2, 2, 2, 2, 2, 2, 2, 2, 2, 2, 2, 2, 2, 2, 2, 2, 2, 2, 2, 2,\n",
      "        2, 2, 2, 2, 2, 2, 2, 2, 2, 2, 2, 2, 2, 2, 2, 2, 2, 2, 2, 2, 2, 2, 2, 2,\n",
      "        2, 2, 2, 2, 2, 2, 2, 2, 2, 2, 2, 2, 2, 2])\n",
      "Clean acc:\t0.0%\n",
      "Attack acc:\t100.0%\n"
     ]
    }
   ],
   "source": [
    "def attack_demo(ori_x, trigger, trigger_mask, channels=3, example_num=2):\n",
    "    assert channels == 3\n",
    "    demo_x = ori_x[:example_num]\n",
    "    for i in range(example_num):\n",
    "        demo = plt.subplot(example_num, 2, i * 2 + 1)\n",
    "        demo.imshow(demo_x[i].permute(1, 2, 0))\n",
    "        demo.axis('off')\n",
    "        demo.set_title('Original')\n",
    "        demo = plt.subplot(example_num, 2, i * 2 + 2)\n",
    "        demo.imshow((demo_x[i] + trigger_mask * (trigger - demo_x[i])).clamp(0., 1.).permute(1, 2, 0))\n",
    "        demo.axis('off')\n",
    "        demo.set_title('Attacked')\n",
    "    plt.show()\n",
    "\n",
    "## Real trigger attack\n",
    "trigger_path = '../triggers/phoenix_corner.png'\n",
    "real_mark = Image.open(trigger_path).convert(\"RGB\")\n",
    "trigger_transform_no_normalize=transforms.Compose([\n",
    "            transforms.Resize(32),\n",
    "            transforms.ToTensor()\n",
    "])\n",
    "real_mark = trigger_transform_no_normalize(real_mark)\n",
    "real_mask = torch.zeros((32, 32))\n",
    "real_mask[27:, 27:] = 1\n",
    "attack_demo(ori_x=test_input_ori, trigger=real_mark, trigger_mask=real_mask, channels=3, example_num=2)\n",
    "mask_mark = real_mark\n",
    "print(\"Min:\", torch.min(mask_mark))\n",
    "print(\"Max:\", torch.max(mask_mark))\n",
    "print(\"L1 norm:\", torch.sum(mask_mark.abs()))\n",
    "print(\"L2 norm:\", torch.sqrt(torch.sum(mask_mark * mask_mark)))\n",
    "print(\"L_infin norm:\", torch.max(mask_mark.abs()))\n",
    "prediction = model(preprocess((test_input_ori + real_mask * (real_mark - test_input_ori)).clamp(0., 1.)).to(device=device))\n",
    "prediction = torch.argmax(prediction.to('cpu'), dim=-1)\n",
    "print(\"Prediction:\", prediction)\n",
    "print(\"Clean acc:\\t{}%\".format(torch.sum(prediction == test_sources) / test_input.shape[0] * 100))\n",
    "print(\"Attack acc:\\t{}%\".format(torch.sum(prediction == target_label) / test_input.shape[0] * 100))\n",
    "\n",
    "\n",
    "## NC attack: x' = x + mask * (mark - x)\n",
    "factor = 1.\n",
    "attack_demo(ori_x=test_input_ori, trigger=factor * mark, trigger_mask=mask, channels=3, example_num=2)\n",
    "mask_mark = factor * mark * mask\n",
    "print(\"Min:\", torch.min(mask_mark))\n",
    "print(\"Max:\", torch.max(mask_mark))\n",
    "print(\"L1 norm:\", torch.sum(mask_mark.abs()))\n",
    "print(\"L2 norm:\", torch.sqrt(torch.sum(mask_mark * mask_mark)))\n",
    "print(\"L_infin norm:\", torch.max(mask_mark.abs()))\n",
    "prediction = model(preprocess((test_input_ori + factor * mask * (mark - test_input_ori)).clamp(0., 1.)).to(device=device))\n",
    "prediction = torch.argmax(prediction.to('cpu'), dim=-1)\n",
    "print(\"Prediction:\", prediction)\n",
    "print(\"Clean acc:\\t{}%\".format(torch.sum(prediction == test_sources) / test_input.shape[0] * 100))\n",
    "print(\"Attack acc:\\t{}%\".format(torch.sum(prediction == target_label) / test_input.shape[0] * 100))"
   ]
  }
 ],
 "metadata": {
  "interpreter": {
   "hash": "0b862d3b411bebd1897f55aa4d684e0f42b60116bbdfd6a5a87e0acf1839b799"
  },
  "kernelspec": {
   "display_name": "Python 3.8.5 64-bit ('base': conda)",
   "name": "python3"
  },
  "language_info": {
   "codemirror_mode": {
    "name": "ipython",
    "version": 3
   },
   "file_extension": ".py",
   "mimetype": "text/x-python",
   "name": "python",
   "nbconvert_exporter": "python",
   "pygments_lexer": "ipython3",
   "version": "3.8.5"
  },
  "orig_nbformat": 4
 },
 "nbformat": 4,
 "nbformat_minor": 2
}
